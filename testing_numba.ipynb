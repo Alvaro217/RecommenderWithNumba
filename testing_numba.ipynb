{
  "nbformat": 4,
  "nbformat_minor": 0,
  "metadata": {
    "colab": {
      "provenance": []
    },
    "kernelspec": {
      "name": "python3",
      "display_name": "Python 3"
    },
    "language_info": {
      "name": "python"
    }
  },
  "cells": [
    {
      "cell_type": "code",
      "source": [
        "! pip install numba"
      ],
      "metadata": {
        "colab": {
          "base_uri": "https://localhost:8080/"
        },
        "id": "C7qplV4WFN-k",
        "outputId": "130ed32b-3081-4ba3-d39d-9b911eed9db2"
      },
      "execution_count": null,
      "outputs": [
        {
          "output_type": "stream",
          "name": "stdout",
          "text": [
            "Looking in indexes: https://pypi.org/simple, https://us-python.pkg.dev/colab-wheels/public/simple/\n",
            "Requirement already satisfied: numba in /usr/local/lib/python3.9/dist-packages (0.56.4)\n",
            "Requirement already satisfied: llvmlite<0.40,>=0.39.0dev0 in /usr/local/lib/python3.9/dist-packages (from numba) (0.39.1)\n",
            "Requirement already satisfied: numpy<1.24,>=1.18 in /usr/local/lib/python3.9/dist-packages (from numba) (1.22.4)\n",
            "Requirement already satisfied: setuptools in /usr/local/lib/python3.9/dist-packages (from numba) (67.7.2)\n"
          ]
        }
      ]
    },
    {
      "cell_type": "code",
      "source": [
        "import itertools\n",
        "import time\n",
        "import numpy as np\n",
        "from math import ceil\n",
        "import numba as nb\n",
        "from numba.experimental import jitclass"
      ],
      "metadata": {
        "id": "gTHTvtGkFlzI"
      },
      "execution_count": 2,
      "outputs": []
    },
    {
      "cell_type": "code",
      "execution_count": 3,
      "metadata": {
        "id": "KzlfnyG0FJGu"
      },
      "outputs": [],
      "source": [
        "class Recommender:\n",
        "    def __init__(self, item_factors, user_factors):\n",
        "        self.item_factors = item_factors\n",
        "        self.user_factors = user_factors\n",
        "\n",
        "    def fit(self):\n",
        "        pass\n",
        "\n",
        "    def recommend(self, N: int=10,\n",
        "                      num_threads: int=0, batch_size: int=0,\n",
        "                      users_items_offset: int=0):\n",
        "        \n",
        "        factors_items = self.item_factors.T\n",
        "        \n",
        "        users_c = self.user_factors.shape[0]\n",
        "        items_c = self.item_factors.shape[0]\n",
        "        batch = num_threads * 100 if batch_size==0 else batch_size\n",
        "        \n",
        "        A = np.zeros((batch, items_c))\n",
        "        B = A\n",
        "        users_c_b = ceil(users_c / float(batch))\n",
        "\n",
        "        # Separate all users in batches\n",
        "        for u_b in range(users_c_b):\n",
        "            u_low = u_b * batch\n",
        "            u_high = min([(u_b + 1) * batch, users_c])\n",
        "            u_len = u_high - u_low\n",
        "            # Prepare array with scores for batch of users\n",
        "            users_factors = np.vstack([\n",
        "                self._user_factor(u + users_items_offset)\n",
        "                for u\n",
        "                in range(u_low, u_high, 1)\n",
        "            ]).astype(np.float32)\n",
        "            \n",
        "            A = np.ascontiguousarray(A)\n",
        "            users_factors.dot(factors_items, out=A[:u_len])\n",
        "            np.sort(A, axis=1)\n",
        "            B = np.concatenate([B[:, :10], A[:, :10]])\n",
        "        return B\n",
        "        \n",
        "    def _user_factor(self, userid):\n",
        "        return self.user_factors[userid]"
      ]
    },
    {
      "cell_type": "code",
      "source": [
        "class NumbaRecommender:\n",
        "    def __init__(self, item_factors, user_factors):\n",
        "        self.item_factors = item_factors\n",
        "        self.user_factors = user_factors\n",
        "\n",
        "    def fit(self):\n",
        "        pass\n",
        "    \n",
        "    @nb.jit(parallel=True, fastmath=True, boundscheck=True, nogil=True)    \n",
        "    def numpy_recommend(item_factors: np.ndarray, user_factors: np.ndarray, \n",
        "                        N: int=10, num_threads: int=0, batch_size: int=0, \n",
        "                        users_items_offset: int=0, users_factors: np.ndarray=np.array([[]])):\n",
        "        factors_items = item_factors.T\n",
        "\n",
        "        users_c = user_factors.shape[0]\n",
        "        items_c = item_factors.shape[0]\n",
        "        batch = num_threads * 100 if batch_size==0 else batch_size\n",
        "\n",
        "        A = np.zeros((batch, items_c))\n",
        "        B = np.zeros((users_c, N))\n",
        "        users_c_b = ceil(users_c / float(batch))\n",
        "\n",
        "        # Separate all users in batches\n",
        "        for u_b in nb.prange(users_c_b):\n",
        "            u_low = u_b * batch\n",
        "            u_high = min([(u_b + 1) * batch, users_c])\n",
        "            u_len = u_high - u_low\n",
        "                # Prepare array with scores for batch of users\n",
        "            users_factors_batch = np.vstack(([\n",
        "                user_factors[u + users_items_offset]\n",
        "                for u\n",
        "                in range(u_low, u_high, 1)\n",
        "            ],)).astype(np.float32)\n",
        "\n",
        "                #A = np.ascontiguousarray(A)\n",
        "            A[:u_len] = np.dot(users_factors_batch, factors_items)\n",
        "            np.sort(A, axis=1)\n",
        "            B[u_low:u_high] = A[:,:N]\n",
        "        return B\n",
        "\n",
        "    def get_numpy_recommend_function(self, item_factors: np.ndarray, \n",
        "                                     user_factors: np.ndarray, N: int=10, num_threads: int=0, \n",
        "                                     batch_size: int=0, users_items_offset: int=0, \n",
        "                                     users_factors: np.ndarray=np.array([[]])):\n",
        "        return NumbaRecommender.numpy_recommend(item_factors, user_factors, N, num_threads, \n",
        "                              batch_size, users_items_offset, users_factors)\n",
        "\n",
        "    def recommend(self, N: int=10, num_threads: int=0, batch_size: int=0, users_items_offset: int=0):\n",
        "        item_factors = self.item_factors\n",
        "        user_factors = self.user_factors\n",
        "        return self.get_numpy_recommend_function(item_factors, user_factors, N, num_threads, batch_size, users_items_offset)\n",
        "     "
      ],
      "metadata": {
        "id": "8cpTYzmoFVAL"
      },
      "execution_count": 11,
      "outputs": []
    },
    {
      "cell_type": "code",
      "source": [
        "def timer(objects, users, size):\n",
        "  recommender = Recommender(objects, users)\n",
        "  start = time.perf_counter()\n",
        "  recommender.recommend(batch_size=size)\n",
        "  end = time.perf_counter()\n",
        "  print(f'without numba time={end - start}')\n",
        "  return end - start\n",
        "\n",
        "def numpy_timer(objects, users, size):\n",
        "  recommender = NumbaRecommender(objects, users)\n",
        "  start = time.perf_counter()\n",
        "  recommender.recommend(batch_size=size)\n",
        "  end = time.perf_counter()\n",
        "  print(f'numba + numpy={end - start}')\n",
        "  return end - start"
      ],
      "metadata": {
        "id": "hkDlXHJFFcCI"
      },
      "execution_count": 5,
      "outputs": []
    },
    {
      "cell_type": "code",
      "source": [
        "K = [16, 64]\n",
        "number_users = [1000, 10000, 100000]\n",
        "number_items = [1000, 10000, 100000]\n",
        "batch_size = [100]"
      ],
      "metadata": {
        "id": "kRRhIQBdFy0z"
      },
      "execution_count": 6,
      "outputs": []
    },
    {
      "cell_type": "code",
      "source": [
        "for size, k, m, n in itertools.product(batch_size, K, number_items, number_users):\n",
        "  users = np.random.sample((n, k))\n",
        "  objects = np.random.sample((m, k))\n",
        "\n",
        "  print(f'k={k}, users={n}, items={m}')\n",
        "  t1 = timer(objects, users, size)\n",
        "  t2 = numpy_timer(objects, users, size)\n",
        "  if min(t1, t2) == t1:\n",
        "      print('without optimization')\n",
        "  else:\n",
        "      print('numba + numpy')\n",
        "  print('-' * 20)"
      ],
      "metadata": {
        "colab": {
          "base_uri": "https://localhost:8080/",
          "height": 1000
        },
        "id": "Yl2ZUCH2F1R3",
        "outputId": "db3773bd-b7a7-4ba8-bdfc-02521e9e0f3b"
      },
      "execution_count": 15,
      "outputs": [
        {
          "output_type": "stream",
          "name": "stdout",
          "text": [
            "k=16, users=1000, items=1000\n",
            "without numba time=0.08547721000002184\n",
            "numba + numpy=0.07298515699994823\n",
            "numba + numpy\n",
            "--------------------\n",
            "k=16, users=10000, items=1000\n",
            "without numba time=0.7722835900000291\n",
            "numba + numpy=0.7561513950000744\n",
            "numba + numpy\n",
            "--------------------\n",
            "k=16, users=100000, items=1000\n",
            "without numba time=9.971664871999906\n",
            "numba + numpy=8.923346388000027\n",
            "numba + numpy\n",
            "--------------------\n",
            "k=16, users=1000, items=10000\n",
            "without numba time=0.9777428450000798\n",
            "numba + numpy=0.948645205000048\n",
            "numba + numpy\n",
            "--------------------\n",
            "k=16, users=10000, items=10000\n",
            "without numba time=9.556801878999977\n",
            "numba + numpy=9.94921835499997\n",
            "without optimization\n",
            "--------------------\n",
            "k=16, users=100000, items=10000\n",
            "without numba time=101.22378049600002\n",
            "numba + numpy=102.7546512460001\n",
            "without optimization\n",
            "--------------------\n",
            "k=16, users=1000, items=100000\n",
            "without numba time=9.614500028000066\n",
            "numba + numpy=10.004418488000056\n",
            "without optimization\n",
            "--------------------\n",
            "k=16, users=10000, items=100000\n"
          ]
        },
        {
          "output_type": "error",
          "ename": "KeyboardInterrupt",
          "evalue": "ignored",
          "traceback": [
            "\u001b[0;31m---------------------------------------------------------------------------\u001b[0m",
            "\u001b[0;31mKeyboardInterrupt\u001b[0m                         Traceback (most recent call last)",
            "\u001b[0;32m<ipython-input-15-8ecb1a6a56e1>\u001b[0m in \u001b[0;36m<cell line: 1>\u001b[0;34m()\u001b[0m\n\u001b[1;32m      4\u001b[0m \u001b[0;34m\u001b[0m\u001b[0m\n\u001b[1;32m      5\u001b[0m   \u001b[0mprint\u001b[0m\u001b[0;34m(\u001b[0m\u001b[0;34mf'k={k}, users={n}, items={m}'\u001b[0m\u001b[0;34m)\u001b[0m\u001b[0;34m\u001b[0m\u001b[0;34m\u001b[0m\u001b[0m\n\u001b[0;32m----> 6\u001b[0;31m   \u001b[0mt1\u001b[0m \u001b[0;34m=\u001b[0m \u001b[0mtimer\u001b[0m\u001b[0;34m(\u001b[0m\u001b[0mobjects\u001b[0m\u001b[0;34m,\u001b[0m \u001b[0musers\u001b[0m\u001b[0;34m,\u001b[0m \u001b[0msize\u001b[0m\u001b[0;34m)\u001b[0m\u001b[0;34m\u001b[0m\u001b[0;34m\u001b[0m\u001b[0m\n\u001b[0m\u001b[1;32m      7\u001b[0m   \u001b[0mt2\u001b[0m \u001b[0;34m=\u001b[0m \u001b[0mnumpy_timer\u001b[0m\u001b[0;34m(\u001b[0m\u001b[0mobjects\u001b[0m\u001b[0;34m,\u001b[0m \u001b[0musers\u001b[0m\u001b[0;34m,\u001b[0m \u001b[0msize\u001b[0m\u001b[0;34m)\u001b[0m\u001b[0;34m\u001b[0m\u001b[0;34m\u001b[0m\u001b[0m\n\u001b[1;32m      8\u001b[0m   \u001b[0;32mif\u001b[0m \u001b[0mmin\u001b[0m\u001b[0;34m(\u001b[0m\u001b[0mt1\u001b[0m\u001b[0;34m,\u001b[0m \u001b[0mt2\u001b[0m\u001b[0;34m)\u001b[0m \u001b[0;34m==\u001b[0m \u001b[0mt1\u001b[0m\u001b[0;34m:\u001b[0m\u001b[0;34m\u001b[0m\u001b[0;34m\u001b[0m\u001b[0m\n",
            "\u001b[0;32m<ipython-input-5-6484edba731e>\u001b[0m in \u001b[0;36mtimer\u001b[0;34m(objects, users, size)\u001b[0m\n\u001b[1;32m      2\u001b[0m   \u001b[0mrecommender\u001b[0m \u001b[0;34m=\u001b[0m \u001b[0mRecommender\u001b[0m\u001b[0;34m(\u001b[0m\u001b[0mobjects\u001b[0m\u001b[0;34m,\u001b[0m \u001b[0musers\u001b[0m\u001b[0;34m)\u001b[0m\u001b[0;34m\u001b[0m\u001b[0;34m\u001b[0m\u001b[0m\n\u001b[1;32m      3\u001b[0m   \u001b[0mstart\u001b[0m \u001b[0;34m=\u001b[0m \u001b[0mtime\u001b[0m\u001b[0;34m.\u001b[0m\u001b[0mperf_counter\u001b[0m\u001b[0;34m(\u001b[0m\u001b[0;34m)\u001b[0m\u001b[0;34m\u001b[0m\u001b[0;34m\u001b[0m\u001b[0m\n\u001b[0;32m----> 4\u001b[0;31m   \u001b[0mrecommender\u001b[0m\u001b[0;34m.\u001b[0m\u001b[0mrecommend\u001b[0m\u001b[0;34m(\u001b[0m\u001b[0mbatch_size\u001b[0m\u001b[0;34m=\u001b[0m\u001b[0msize\u001b[0m\u001b[0;34m)\u001b[0m\u001b[0;34m\u001b[0m\u001b[0;34m\u001b[0m\u001b[0m\n\u001b[0m\u001b[1;32m      5\u001b[0m   \u001b[0mend\u001b[0m \u001b[0;34m=\u001b[0m \u001b[0mtime\u001b[0m\u001b[0;34m.\u001b[0m\u001b[0mperf_counter\u001b[0m\u001b[0;34m(\u001b[0m\u001b[0;34m)\u001b[0m\u001b[0;34m\u001b[0m\u001b[0;34m\u001b[0m\u001b[0m\n\u001b[1;32m      6\u001b[0m   \u001b[0mprint\u001b[0m\u001b[0;34m(\u001b[0m\u001b[0;34mf'without numba time={end - start}'\u001b[0m\u001b[0;34m)\u001b[0m\u001b[0;34m\u001b[0m\u001b[0;34m\u001b[0m\u001b[0m\n",
            "\u001b[0;32m<ipython-input-3-ebf924e35acd>\u001b[0m in \u001b[0;36mrecommend\u001b[0;34m(self, N, num_threads, batch_size, users_items_offset)\u001b[0m\n\u001b[1;32m     35\u001b[0m             \u001b[0mA\u001b[0m \u001b[0;34m=\u001b[0m \u001b[0mnp\u001b[0m\u001b[0;34m.\u001b[0m\u001b[0mascontiguousarray\u001b[0m\u001b[0;34m(\u001b[0m\u001b[0mA\u001b[0m\u001b[0;34m)\u001b[0m\u001b[0;34m\u001b[0m\u001b[0;34m\u001b[0m\u001b[0m\n\u001b[1;32m     36\u001b[0m             \u001b[0musers_factors\u001b[0m\u001b[0;34m.\u001b[0m\u001b[0mdot\u001b[0m\u001b[0;34m(\u001b[0m\u001b[0mfactors_items\u001b[0m\u001b[0;34m,\u001b[0m \u001b[0mout\u001b[0m\u001b[0;34m=\u001b[0m\u001b[0mA\u001b[0m\u001b[0;34m[\u001b[0m\u001b[0;34m:\u001b[0m\u001b[0mu_len\u001b[0m\u001b[0;34m]\u001b[0m\u001b[0;34m)\u001b[0m\u001b[0;34m\u001b[0m\u001b[0;34m\u001b[0m\u001b[0m\n\u001b[0;32m---> 37\u001b[0;31m             \u001b[0mnp\u001b[0m\u001b[0;34m.\u001b[0m\u001b[0msort\u001b[0m\u001b[0;34m(\u001b[0m\u001b[0mA\u001b[0m\u001b[0;34m,\u001b[0m \u001b[0maxis\u001b[0m\u001b[0;34m=\u001b[0m\u001b[0;36m1\u001b[0m\u001b[0;34m)\u001b[0m\u001b[0;34m\u001b[0m\u001b[0;34m\u001b[0m\u001b[0m\n\u001b[0m\u001b[1;32m     38\u001b[0m             \u001b[0mB\u001b[0m \u001b[0;34m=\u001b[0m \u001b[0mnp\u001b[0m\u001b[0;34m.\u001b[0m\u001b[0mconcatenate\u001b[0m\u001b[0;34m(\u001b[0m\u001b[0;34m[\u001b[0m\u001b[0mB\u001b[0m\u001b[0;34m[\u001b[0m\u001b[0;34m:\u001b[0m\u001b[0;34m,\u001b[0m \u001b[0;34m:\u001b[0m\u001b[0;36m10\u001b[0m\u001b[0;34m]\u001b[0m\u001b[0;34m,\u001b[0m \u001b[0mA\u001b[0m\u001b[0;34m[\u001b[0m\u001b[0;34m:\u001b[0m\u001b[0;34m,\u001b[0m \u001b[0;34m:\u001b[0m\u001b[0;36m10\u001b[0m\u001b[0;34m]\u001b[0m\u001b[0;34m]\u001b[0m\u001b[0;34m)\u001b[0m\u001b[0;34m\u001b[0m\u001b[0;34m\u001b[0m\u001b[0m\n\u001b[1;32m     39\u001b[0m         \u001b[0;32mreturn\u001b[0m \u001b[0mB\u001b[0m\u001b[0;34m\u001b[0m\u001b[0;34m\u001b[0m\u001b[0m\n",
            "\u001b[0;32m/usr/local/lib/python3.10/dist-packages/numpy/core/overrides.py\u001b[0m in \u001b[0;36msort\u001b[0;34m(*args, **kwargs)\u001b[0m\n",
            "\u001b[0;32m/usr/local/lib/python3.10/dist-packages/numpy/core/fromnumeric.py\u001b[0m in \u001b[0;36msort\u001b[0;34m(a, axis, kind, order)\u001b[0m\n\u001b[1;32m   1002\u001b[0m     \u001b[0;32melse\u001b[0m\u001b[0;34m:\u001b[0m\u001b[0;34m\u001b[0m\u001b[0;34m\u001b[0m\u001b[0m\n\u001b[1;32m   1003\u001b[0m         \u001b[0ma\u001b[0m \u001b[0;34m=\u001b[0m \u001b[0masanyarray\u001b[0m\u001b[0;34m(\u001b[0m\u001b[0ma\u001b[0m\u001b[0;34m)\u001b[0m\u001b[0;34m.\u001b[0m\u001b[0mcopy\u001b[0m\u001b[0;34m(\u001b[0m\u001b[0morder\u001b[0m\u001b[0;34m=\u001b[0m\u001b[0;34m\"K\"\u001b[0m\u001b[0;34m)\u001b[0m\u001b[0;34m\u001b[0m\u001b[0;34m\u001b[0m\u001b[0m\n\u001b[0;32m-> 1004\u001b[0;31m     \u001b[0ma\u001b[0m\u001b[0;34m.\u001b[0m\u001b[0msort\u001b[0m\u001b[0;34m(\u001b[0m\u001b[0maxis\u001b[0m\u001b[0;34m=\u001b[0m\u001b[0maxis\u001b[0m\u001b[0;34m,\u001b[0m \u001b[0mkind\u001b[0m\u001b[0;34m=\u001b[0m\u001b[0mkind\u001b[0m\u001b[0;34m,\u001b[0m \u001b[0morder\u001b[0m\u001b[0;34m=\u001b[0m\u001b[0morder\u001b[0m\u001b[0;34m)\u001b[0m\u001b[0;34m\u001b[0m\u001b[0;34m\u001b[0m\u001b[0m\n\u001b[0m\u001b[1;32m   1005\u001b[0m     \u001b[0;32mreturn\u001b[0m \u001b[0ma\u001b[0m\u001b[0;34m\u001b[0m\u001b[0;34m\u001b[0m\u001b[0m\n\u001b[1;32m   1006\u001b[0m \u001b[0;34m\u001b[0m\u001b[0m\n",
            "\u001b[0;31mKeyboardInterrupt\u001b[0m: "
          ]
        }
      ]
    }
  ]
}